{
 "cells": [
  {
   "cell_type": "code",
   "execution_count": 27,
   "metadata": {
    "collapsed": false,
    "scrolled": false
   },
   "outputs": [
    {
     "name": "stdout",
     "output_type": "stream",
     "text": [
      "The autoreload extension is already loaded. To reload it, use:\n",
      "  %reload_ext autoreload\n"
     ]
    }
   ],
   "source": [
    "%load_ext autoreload\n",
    "%autoreload"
   ]
  },
  {
   "cell_type": "code",
   "execution_count": 28,
   "metadata": {
    "collapsed": true
   },
   "outputs": [],
   "source": [
    "import numpy as np\n",
    "import nltk\n",
    "import pandas as pd\n",
    "from ast import literal_eval\n",
    "from collections import Counter\n",
    "from scipy.optimize import fmin_l_bfgs_b\n",
    "from gensim.models.doc2vec import TaggedDocument\n",
    "from gensim.models import Doc2Vec\n",
    "import multiprocessing\n",
    "import random\n",
    "from tqdm import tqdm\n",
    "import optimizeTopicVectors as ot\n",
    "import time"
   ]
  },
  {
   "cell_type": "code",
   "execution_count": 29,
   "metadata": {
    "collapsed": true
   },
   "outputs": [],
   "source": [
    "# hoseong's class\n",
    "from STMD import *\n",
    "from ASUM import *\n",
    "from ASUM_Embedding import *\n",
    "from preprocess import *"
   ]
  },
  {
   "cell_type": "code",
   "execution_count": 30,
   "metadata": {
    "collapsed": false
   },
   "outputs": [],
   "source": [
    "with open('D:/Dropbox/2016-2/졸업논문/STMD/data/SentiWords-0.txt','r') as f:\n",
    "    pos = f.readlines()\n",
    "pos_seed = [word.strip() for word in pos]\n",
    "with open('D:/Dropbox/2016-2/졸업논문/STMD/data/SentiWords-1.txt','r') as f:\n",
    "    neg = f.readlines()\n",
    "neg_seed = [word.strip() for word in neg]"
   ]
  },
  {
   "cell_type": "code",
   "execution_count": 31,
   "metadata": {
    "collapsed": true
   },
   "outputs": [],
   "source": [
    "# load data\n",
    "# work_path = \"/media/hs-ubuntu/data/dataset/MasterThesis/STMD_data/\"\n",
    "work_path = \"E:/dataset/MasterThesis/STMD_data/\"\n",
    "\n",
    "data = pd.read_csv(work_path + \"preprocess_complete_Electronics.csv\")"
   ]
  },
  {
   "cell_type": "code",
   "execution_count": 35,
   "metadata": {
    "collapsed": true
   },
   "outputs": [],
   "source": [
    "def extract_sample(data, brand_name, count, ratio = 1, random_state = 42):\n",
    "    brand = data[data['brand']==brand_name]\n",
    "    pos_reviews = brand[brand.overall >= 4]\n",
    "    neg_reviews = brand[brand.overall <= 2]\n",
    "    if ratio == 1:\n",
    "        pos_sample = pos_reviews.sample(count, random_state=random_state)\n",
    "        neg_sample = neg_reviews.sample(count, random_state=random_state)\n",
    "        df = pd.concat([pos_sample, neg_sample], axis=0)\n",
    "    else:\n",
    "        df = brand.sample(count * 2, random_state = random_state)\n",
    "    df['preprocessed'] = df.preprocessed.apply(lambda row: literal_eval(row))\n",
    "    return df"
   ]
  },
  {
   "cell_type": "code",
   "execution_count": 37,
   "metadata": {
    "collapsed": false
   },
   "outputs": [],
   "source": [
    "# brand = ['Apple', 'Samsung','Canon']\n",
    "# brand_df = data[data.brand.isin(brand)]\n",
    "# brand_df.reset_index(drop=True, inplace=True)\n",
    "# #긍정, 부정 반반씩\n",
    "# pos_reviews = brand_df[brand_df.overall >= 4]\n",
    "# neg_reviews = brand_df[brand_df.overall <= 2]\n",
    "# pos_sample = pos_reviews.sample(3500, random_state=23)\n",
    "# neg_sample = neg_reviews.sample(3500, random_state=42)\n",
    "# df = pd.concat([pos_sample, neg_sample], axis=0)\n",
    "# df['preprocessed'] = df.preprocessed.apply(lambda row: literal_eval(row))\n",
    "# df.reset_index(drop=True, inplace=True)\n",
    "\n",
    "# apple, samsung, canon 1:1:1\n",
    "apple = extract_sample(data, 'Apple', 500, ratio = 1)\n",
    "samsung = extract_sample(data, 'Samsung', 500, ratio = 1)\n",
    "canon = extract_sample(data, 'Canon', 500, ratio = 1)\n",
    "df = pd.concat([apple, samsung, canon], axis=0)\n",
    "df.reset_index(drop=True, inplace=True)"
   ]
  },
  {
   "cell_type": "code",
   "execution_count": 38,
   "metadata": {
    "collapsed": false
   },
   "outputs": [
    {
     "name": "stdout",
     "output_type": "stream",
     "text": [
      "(1500, 12)\n",
      "(1500, 12)\n"
     ]
    }
   ],
   "source": [
    "print(df[df.overall >= 4].shape)\n",
    "print(df[df.overall <= 2].shape)"
   ]
  },
  {
   "cell_type": "code",
   "execution_count": 39,
   "metadata": {
    "collapsed": false
   },
   "outputs": [],
   "source": [
    "# prepare\n",
    "sentence_list, sentiment_label, sentence_senti_label, \\\n",
    "pos_neg_sentence_indices, pos_neg_sentiment_label, numSentence = prepare(df)\n",
    "\n",
    "documents, sentence_list_again, bigram, documents_label\\\n",
    "= bigram_and_sentence(sentence_senti_label, sentence_list, numSentence, max_vocab=5000, threshold = 5, min_count = 20)"
   ]
  },
  {
   "cell_type": "code",
   "execution_count": 40,
   "metadata": {
    "collapsed": false
   },
   "outputs": [
    {
     "data": {
      "text/plain": [
       "27124"
      ]
     },
     "execution_count": 40,
     "metadata": {},
     "output_type": "execute_result"
    }
   ],
   "source": [
    "len(documents)"
   ]
  },
  {
   "cell_type": "markdown",
   "metadata": {},
   "source": [
    "#### 그냥 ASUM"
   ]
  },
  {
   "cell_type": "code",
   "execution_count": 42,
   "metadata": {
    "collapsed": false
   },
   "outputs": [
    {
     "name": "stdout",
     "output_type": "stream",
     "text": [
      "Starting iteration 2 of 100\n",
      "0.519\n",
      "Starting iteration 4 of 100\n",
      "0.518\n",
      "Starting iteration 6 of 100\n",
      "0.526\n",
      "Starting iteration 8 of 100\n",
      "0.523333333333\n",
      "Starting iteration 10 of 100\n",
      "0.518333333333\n",
      "Starting iteration 12 of 100\n",
      "0.528333333333\n",
      "Starting iteration 14 of 100\n",
      "0.531333333333\n",
      "Starting iteration 16 of 100\n",
      "0.549666666667\n",
      "Starting iteration 18 of 100\n",
      "0.546666666667\n",
      "Starting iteration 20 of 100\n",
      "0.552\n",
      "Starting iteration 22 of 100\n",
      "0.554333333333\n",
      "Starting iteration 24 of 100\n",
      "0.554\n",
      "Starting iteration 26 of 100\n",
      "0.554333333333\n",
      "Starting iteration 28 of 100\n",
      "0.551333333333\n",
      "Starting iteration 30 of 100\n",
      "0.559333333333\n",
      "Starting iteration 32 of 100\n",
      "0.558333333333\n",
      "Starting iteration 34 of 100\n",
      "0.553666666667\n",
      "Starting iteration 36 of 100\n",
      "0.551666666667\n",
      "Starting iteration 38 of 100\n",
      "0.545333333333\n",
      "Starting iteration 40 of 100\n",
      "0.552\n",
      "Starting iteration 42 of 100\n",
      "0.547333333333\n",
      "Starting iteration 44 of 100\n",
      "0.551333333333\n",
      "Starting iteration 46 of 100\n",
      "0.549\n",
      "Starting iteration 48 of 100\n",
      "0.549666666667\n",
      "Starting iteration 50 of 100\n",
      "0.545666666667\n",
      "Starting save model\n",
      "Starting iteration 52 of 100\n",
      "0.553333333333\n",
      "Starting iteration 54 of 100\n",
      "0.551666666667\n",
      "Starting iteration 56 of 100\n",
      "0.55\n",
      "Starting iteration 58 of 100\n",
      "0.553333333333\n",
      "Starting iteration 60 of 100\n",
      "0.55\n",
      "Starting iteration 62 of 100\n",
      "0.551\n",
      "Starting iteration 64 of 100\n",
      "0.549\n",
      "Starting iteration 66 of 100\n",
      "0.544\n",
      "Starting iteration 68 of 100\n",
      "0.546\n",
      "Starting iteration 70 of 100\n",
      "0.545\n",
      "Starting iteration 72 of 100\n",
      "0.546333333333\n",
      "Starting iteration 74 of 100\n",
      "0.545333333333\n",
      "Starting iteration 76 of 100\n",
      "0.546333333333\n",
      "Starting iteration 78 of 100\n",
      "0.544666666667\n",
      "Starting iteration 80 of 100\n",
      "0.545\n",
      "Starting iteration 82 of 100\n",
      "0.545333333333\n",
      "Starting iteration 84 of 100\n",
      "0.555666666667\n",
      "Starting iteration 86 of 100\n",
      "0.553666666667\n",
      "Starting iteration 88 of 100\n",
      "0.551333333333\n",
      "Starting iteration 90 of 100\n",
      "0.551333333333\n",
      "Starting iteration 92 of 100\n",
      "0.549666666667\n",
      "Starting iteration 94 of 100\n",
      "0.544666666667\n",
      "Starting iteration 96 of 100\n",
      "0.549333333333\n",
      "Starting iteration 98 of 100\n",
      "0.545666666667\n",
      "Starting iteration 100 of 100\n",
      "0.549666666667\n",
      "Starting save model\n",
      "Wall time: 16min 53s\n"
     ]
    }
   ],
   "source": [
    "%%time\n",
    "asum_path = \"E:/dataset/MasterThesis/Models/ASUM_test1_\"\n",
    "asum = ASUM(pos_seed, neg_seed, numTopics=10, alpha=0.01, beta=0.001, gamma=1, numSentiments=2)\n",
    "asum._initialize_(sentence_list_again, pos_neg_sentence_indices, pos_neg_sentiment_label, sentiment_label)\n",
    "asum.run(sentence_list_again, save_path=asum_path, print_iter=2, save_iter = 50, maxIters= 100)"
   ]
  },
  {
   "cell_type": "code",
   "execution_count": 43,
   "metadata": {
    "collapsed": false
   },
   "outputs": [
    {
     "name": "stdout",
     "output_type": "stream",
     "text": [
      "Starting iteration 2 of 100\n",
      "0.499\n",
      "Starting iteration 4 of 100\n",
      "0.481\n",
      "Starting iteration 6 of 100\n",
      "0.479\n",
      "Starting iteration 8 of 100\n",
      "0.494\n",
      "Starting iteration 10 of 100\n",
      "0.493\n",
      "Starting iteration 12 of 100\n",
      "0.505666666667\n",
      "Starting iteration 14 of 100\n",
      "0.483333333333\n",
      "Starting iteration 16 of 100\n",
      "0.480666666667\n",
      "Starting iteration 18 of 100\n",
      "0.478666666667\n",
      "Starting iteration 20 of 100\n",
      "0.462666666667\n",
      "Starting iteration 22 of 100\n",
      "0.464\n",
      "Starting iteration 24 of 100\n",
      "0.460666666667\n",
      "Starting iteration 26 of 100\n",
      "0.451666666667\n",
      "Starting iteration 28 of 100\n",
      "0.456666666667\n",
      "Starting iteration 30 of 100\n",
      "0.454\n",
      "Starting iteration 32 of 100\n",
      "0.452\n",
      "Starting iteration 34 of 100\n",
      "0.445\n",
      "Starting iteration 36 of 100\n",
      "0.453\n",
      "Starting iteration 38 of 100\n",
      "0.447333333333\n",
      "Starting iteration 40 of 100\n",
      "0.442\n",
      "Starting iteration 42 of 100\n",
      "0.455333333333\n",
      "Starting iteration 44 of 100\n",
      "0.451333333333\n",
      "Starting iteration 46 of 100\n",
      "0.453333333333\n",
      "Starting iteration 48 of 100\n",
      "0.453333333333\n",
      "Starting iteration 50 of 100\n",
      "0.448\n",
      "Starting save model\n",
      "Starting iteration 52 of 100\n",
      "0.444333333333\n",
      "Starting iteration 54 of 100\n",
      "0.451\n",
      "Starting iteration 56 of 100\n",
      "0.450333333333\n",
      "Starting iteration 58 of 100\n",
      "0.454\n",
      "Starting iteration 60 of 100\n",
      "0.447666666667\n",
      "Starting iteration 62 of 100\n",
      "0.449\n",
      "Starting iteration 64 of 100\n",
      "0.444\n",
      "Starting iteration 66 of 100\n",
      "0.453\n",
      "Starting iteration 68 of 100\n",
      "0.448\n",
      "Starting iteration 70 of 100\n",
      "0.448666666667\n",
      "Starting iteration 72 of 100\n",
      "0.445\n",
      "Starting iteration 74 of 100\n",
      "0.446666666667\n",
      "Starting iteration 76 of 100\n",
      "0.446\n",
      "Starting iteration 78 of 100\n",
      "0.447666666667\n",
      "Starting iteration 80 of 100\n",
      "0.445\n",
      "Starting iteration 82 of 100\n",
      "0.451666666667\n",
      "Starting iteration 84 of 100\n",
      "0.447666666667\n",
      "Starting iteration 86 of 100\n",
      "0.443333333333\n",
      "Starting iteration 88 of 100\n",
      "0.448666666667\n",
      "Starting iteration 90 of 100\n",
      "0.452333333333\n",
      "Starting iteration 92 of 100\n",
      "0.448333333333\n",
      "Starting iteration 94 of 100\n",
      "0.448666666667\n",
      "Starting iteration 96 of 100\n",
      "0.454\n",
      "Starting iteration 98 of 100\n",
      "0.449666666667\n",
      "Starting iteration 100 of 100\n",
      "0.454\n",
      "Starting save model\n",
      "Wall time: 16min 33s\n"
     ]
    }
   ],
   "source": [
    "%%time\n",
    "asum_path = \"E:/dataset/MasterThesis/Models/ASUM_test2_\"\n",
    "asum = ASUM(pos_seed, neg_seed, numTopics=10, alpha=0.01, beta=0.001, gamma=1, numSentiments=2)\n",
    "asum._initialize_(sentence_list_again, pos_neg_sentence_indices, pos_neg_sentiment_label, sentiment_label)\n",
    "asum.run(sentence_list_again, save_path=asum_path, print_iter=2, save_iter = 50, maxIters= 100)"
   ]
  },
  {
   "cell_type": "code",
   "execution_count": 44,
   "metadata": {
    "collapsed": false
   },
   "outputs": [
    {
     "name": "stdout",
     "output_type": "stream",
     "text": [
      "Starting iteration 2 of 100\n",
      "0.520666666667\n",
      "Starting iteration 4 of 100\n",
      "0.522\n",
      "Starting iteration 6 of 100\n",
      "0.523333333333\n",
      "Starting iteration 8 of 100\n",
      "0.501\n",
      "Starting iteration 10 of 100\n",
      "0.496\n",
      "Starting iteration 12 of 100\n",
      "0.506333333333\n",
      "Starting iteration 14 of 100\n",
      "0.506333333333\n",
      "Starting iteration 16 of 100\n",
      "0.514666666667\n",
      "Starting iteration 18 of 100\n",
      "0.518\n",
      "Starting iteration 20 of 100\n",
      "0.519\n",
      "Starting iteration 22 of 100\n",
      "0.522666666667\n",
      "Starting iteration 24 of 100\n",
      "0.526333333333\n",
      "Starting iteration 26 of 100\n",
      "0.530333333333\n",
      "Starting iteration 28 of 100\n",
      "0.526\n",
      "Starting iteration 30 of 100\n",
      "0.527666666667\n",
      "Starting iteration 32 of 100\n",
      "0.526\n",
      "Starting iteration 34 of 100\n",
      "0.520666666667\n",
      "Starting iteration 36 of 100\n",
      "0.525666666667\n",
      "Starting iteration 38 of 100\n",
      "0.519333333333\n",
      "Starting iteration 40 of 100\n",
      "0.514\n",
      "Starting iteration 42 of 100\n",
      "0.515333333333\n",
      "Starting iteration 44 of 100\n",
      "0.518333333333\n",
      "Starting iteration 46 of 100\n",
      "0.518\n",
      "Starting iteration 48 of 100\n",
      "0.508\n",
      "Starting iteration 50 of 100\n",
      "0.512333333333\n",
      "Starting save model\n",
      "Starting iteration 52 of 100\n",
      "0.516666666667\n",
      "Starting iteration 54 of 100\n",
      "0.512333333333\n",
      "Starting iteration 56 of 100\n",
      "0.513\n",
      "Starting iteration 58 of 100\n",
      "0.51\n",
      "Starting iteration 60 of 100\n",
      "0.508666666667\n",
      "Starting iteration 62 of 100\n",
      "0.512333333333\n",
      "Starting iteration 64 of 100\n",
      "0.509\n",
      "Starting iteration 66 of 100\n",
      "0.512333333333\n",
      "Starting iteration 68 of 100\n",
      "0.513666666667\n",
      "Starting iteration 70 of 100\n",
      "0.508333333333\n",
      "Starting iteration 72 of 100\n",
      "0.503333333333\n",
      "Starting iteration 74 of 100\n",
      "0.508666666667\n",
      "Starting iteration 76 of 100\n",
      "0.500333333333\n",
      "Starting iteration 78 of 100\n",
      "0.504333333333\n",
      "Starting iteration 80 of 100\n",
      "0.502333333333\n",
      "Starting iteration 82 of 100\n",
      "0.497333333333\n",
      "Starting iteration 84 of 100\n",
      "0.493\n",
      "Starting iteration 86 of 100\n",
      "0.496333333333\n",
      "Starting iteration 88 of 100\n",
      "0.494333333333\n",
      "Starting iteration 90 of 100\n",
      "0.497666666667\n",
      "Starting iteration 92 of 100\n",
      "0.499333333333\n",
      "Starting iteration 94 of 100\n",
      "0.496666666667\n",
      "Starting iteration 96 of 100\n",
      "0.494333333333\n",
      "Starting iteration 98 of 100\n",
      "0.493\n",
      "Starting iteration 100 of 100\n",
      "0.489333333333\n",
      "Starting save model\n",
      "Wall time: 16min 52s\n"
     ]
    }
   ],
   "source": [
    "%%time\n",
    "asum_path = \"E:/dataset/MasterThesis/Models/ASUM_test3_\"\n",
    "asum = ASUM(pos_seed, neg_seed, numTopics=10, alpha=0.01, beta=0.001, gamma=1, numSentiments=2)\n",
    "asum._initialize_(sentence_list_again, pos_neg_sentence_indices, pos_neg_sentiment_label, sentiment_label)\n",
    "asum.run(sentence_list_again, save_path=asum_path, print_iter=2, save_iter = 50, maxIters= 100)"
   ]
  },
  {
   "cell_type": "code",
   "execution_count": 16,
   "metadata": {
    "collapsed": false
   },
   "outputs": [
    {
     "data": {
      "text/plain": [
       "6000"
      ]
     },
     "execution_count": 16,
     "metadata": {},
     "output_type": "execute_result"
    }
   ],
   "source": [
    "len(pos_neg_sentence_indices)"
   ]
  },
  {
   "cell_type": "code",
   "execution_count": 17,
   "metadata": {
    "collapsed": false
   },
   "outputs": [
    {
     "data": {
      "text/plain": [
       "5553"
      ]
     },
     "execution_count": 17,
     "metadata": {},
     "output_type": "execute_result"
    }
   ],
   "source": [
    "len(pos_neg_sentiment_label)"
   ]
  },
  {
   "cell_type": "code",
   "execution_count": 19,
   "metadata": {
    "collapsed": false
   },
   "outputs": [
    {
     "data": {
      "text/plain": [
       "[0, 0, 1, 0, 0, 1, 0, 1, 0, 0]"
      ]
     },
     "execution_count": 19,
     "metadata": {},
     "output_type": "execute_result"
    }
   ],
   "source": [
    "pos_neg_sentiment_label[:10]"
   ]
  },
  {
   "cell_type": "code",
   "execution_count": null,
   "metadata": {
    "collapsed": true
   },
   "outputs": [],
   "source": []
  }
 ],
 "metadata": {
  "anaconda-cloud": {},
  "kernelspec": {
   "display_name": "Python [conda root]",
   "language": "python",
   "name": "conda-root-py"
  },
  "language_info": {
   "codemirror_mode": {
    "name": "ipython",
    "version": 3
   },
   "file_extension": ".py",
   "mimetype": "text/x-python",
   "name": "python",
   "nbconvert_exporter": "python",
   "pygments_lexer": "ipython3",
   "version": "3.5.2"
  }
 },
 "nbformat": 4,
 "nbformat_minor": 1
}
