{
 "cells": [
  {
   "cell_type": "code",
   "execution_count": 1,
   "metadata": {
    "collapsed": false,
    "scrolled": true
   },
   "outputs": [],
   "source": [
    "%load_ext autoreload\n",
    "%autoreload 2"
   ]
  },
  {
   "cell_type": "code",
   "execution_count": 2,
   "metadata": {
    "collapsed": false
   },
   "outputs": [
    {
     "name": "stderr",
     "output_type": "stream",
     "text": [
      "C:\\Program Files\\Anaconda3\\lib\\site-packages\\gensim\\utils.py:840: UserWarning: detected Windows; aliasing chunkize to chunkize_serial\n",
      "  warnings.warn(\"detected Windows; aliasing chunkize to chunkize_serial\")\n",
      "C:\\Program Files\\Anaconda3\\lib\\site-packages\\gensim\\utils.py:1015: UserWarning: Pattern library is not installed, lemmatization won't be available.\n",
      "  warnings.warn(\"Pattern library is not installed, lemmatization won't be available.\")\n"
     ]
    }
   ],
   "source": [
    "import numpy as np\n",
    "import nltk\n",
    "import pandas as pd\n",
    "from ast import literal_eval\n",
    "from collections import Counter\n",
    "from scipy.optimize import fmin_l_bfgs_b\n",
    "from gensim.models.doc2vec import TaggedDocument\n",
    "from gensim.models import Doc2Vec\n",
    "import multiprocessing\n",
    "import random\n",
    "from tqdm import tqdm\n",
    "import optimizeTopicVectors as ot\n",
    "import time"
   ]
  },
  {
   "cell_type": "code",
   "execution_count": 3,
   "metadata": {
    "collapsed": true
   },
   "outputs": [],
   "source": [
    "# hoseong's class\n",
    "from STMD import *\n",
    "from ASUM import *\n",
    "from ASUM_Embedding import *\n",
    "from preprocess import *"
   ]
  },
  {
   "cell_type": "code",
   "execution_count": 4,
   "metadata": {
    "collapsed": true
   },
   "outputs": [],
   "source": [
    "# load data\n",
    "# work_path = \"/media/hs-ubuntu/data/dataset/MasterThesis/STMD_data/\"\n",
    "work_path = \"E:/dataset/MasterThesis/STMD_data/\"\n",
    "\n",
    "data = pd.read_csv(work_path + \"preprocess_complete_Electronics.csv\")"
   ]
  },
  {
   "cell_type": "code",
   "execution_count": 5,
   "metadata": {
    "collapsed": true
   },
   "outputs": [],
   "source": [
    "def extract_sample(data, brand_name, count, ratio = 1, random_state = 42):\n",
    "    brand = data[data['brand']==brand_name]\n",
    "    pos_reviews = brand[brand.overall >= 4]\n",
    "    neg_reviews = brand[brand.overall <= 2]\n",
    "    if ratio == 1:\n",
    "        pos_sample = pos_reviews.sample(count, random_state=random_state)\n",
    "        neg_sample = neg_reviews.sample(count, random_state=random_state)\n",
    "        df = pd.concat([pos_sample, neg_sample], axis=0)\n",
    "    else:\n",
    "        df = brand.sample(count * 2, random_state = random_state)\n",
    "    df['preprocessed'] = df.preprocessed.apply(lambda row: literal_eval(row))\n",
    "    return df"
   ]
  },
  {
   "cell_type": "code",
   "execution_count": 6,
   "metadata": {
    "collapsed": false
   },
   "outputs": [],
   "source": [
    "# Apple 리뷰에서 긍정, 부정인 문서만\n",
    "apple = data[data.brand == \"Apple\"]\n",
    "pos_reviews = apple[apple.overall >= 4]\n",
    "neg_reviews = apple[apple.overall <= 2]\n",
    "df = pd.concat([pos_reviews, neg_reviews], axis=0)\n",
    "df['preprocessed'] = df.preprocessed.apply(lambda row: literal_eval(row))\n",
    "df.reset_index(drop=True, inplace=True)"
   ]
  },
  {
   "cell_type": "code",
   "execution_count": 7,
   "metadata": {
    "collapsed": false
   },
   "outputs": [
    {
     "name": "stdout",
     "output_type": "stream",
     "text": [
      "(3307, 12)\n",
      "(1324, 12)\n"
     ]
    }
   ],
   "source": [
    "df.to_csv(work_path + \"apple_pos_neg.csv\", index=False)\n",
    "print(df[df.overall >= 4].shape)\n",
    "print(df[df.overall <= 2].shape)"
   ]
  },
  {
   "cell_type": "code",
   "execution_count": 8,
   "metadata": {
    "collapsed": false
   },
   "outputs": [],
   "source": [
    "df = pd.read_csv(work_path + \"apple_pos_neg.csv\")\n",
    "df['preprocessed'] = df.preprocessed.apply(lambda row: literal_eval(row))"
   ]
  },
  {
   "cell_type": "code",
   "execution_count": 9,
   "metadata": {
    "collapsed": false
   },
   "outputs": [],
   "source": [
    "# prepare\n",
    "sentence_list, review_label, numSentence = prepare(df, max_sentence = 50)"
   ]
  },
  {
   "cell_type": "code",
   "execution_count": 10,
   "metadata": {
    "collapsed": false
   },
   "outputs": [
    {
     "name": "stderr",
     "output_type": "stream",
     "text": [
      "C:\\Program Files\\Anaconda3\\lib\\site-packages\\gensim\\models\\phrases.py:248: UserWarning: For a faster implementation, use the gensim.models.phrases.Phraser class\n",
      "  warnings.warn(\"For a faster implementation, use the gensim.models.phrases.Phraser class\")\n"
     ]
    }
   ],
   "source": [
    "documents, sentence_list_again, bigram, documents_label\\\n",
    "= bigram_and_sentence(sentence_list, review_label, numSentence, max_vocab=5000, threshold = 10, min_count = 10)"
   ]
  },
  {
   "cell_type": "code",
   "execution_count": 114,
   "metadata": {
    "collapsed": true
   },
   "outputs": [],
   "source": [
    "asum_embedding = ASUM_Embedding(review_label, wordVectors, sentimentVector, numTopics=topic, alpha=0.01, beta=0.001, gamma=1, binary=0.8, numSentiments=2)\n",
    "asum_embedding._initialize_(sentence_list_again)"
   ]
  },
  {
   "cell_type": "code",
   "execution_count": 115,
   "metadata": {
    "collapsed": true
   },
   "outputs": [],
   "source": [
    "#Save WordList\n",
    "save_path = \"E:/dataset/MasterThesis/STMD_data/apple_pos_neg_data_txt/\"\n",
    "from collections import OrderedDict\n",
    "dic = OrderedDict(sorted(asum_embedding.word2idx.items(), key=lambda t: t[1]))\n",
    "word_list = []\n",
    "for key in dic.keys():\n",
    "    word_list.append(key)\n",
    "with open(save_path + \"WordList.txt\", 'w') as f:\n",
    "    for word in word_list:\n",
    "        f.writelines(word + \"\\n\")"
   ]
  },
  {
   "cell_type": "code",
   "execution_count": 117,
   "metadata": {
    "collapsed": false
   },
   "outputs": [],
   "source": [
    "#Save BagOfSentence\n",
    "with open(save_path + \"BagOfSentences.txt\", 'w') as f:\n",
    "    for doc in range(asum_embedding.numDocs):\n",
    "        f.write(str(len(asum_embedding.doc_sent_word_dict[doc])))\n",
    "        f.write(\"\\n\")\n",
    "        for sent in asum_embedding.doc_sent_word_dict[doc]:\n",
    "            for word in sent:\n",
    "                f.write(str(word) + ' ')\n",
    "            f.write(\"\\n\")"
   ]
  },
  {
   "cell_type": "code",
   "execution_count": 118,
   "metadata": {
    "collapsed": true
   },
   "outputs": [],
   "source": [
    "#Save document pos_neg label\n",
    "with open(save_path + \"ReviewLabel.txt\", 'w') as f:\n",
    "    for label in asum_embedding.review_label:\n",
    "        f.writelines(str(label) + \"\\n\")"
   ]
  },
  {
   "cell_type": "code",
   "execution_count": 11,
   "metadata": {
    "collapsed": false
   },
   "outputs": [
    {
     "name": "stderr",
     "output_type": "stream",
     "text": [
      "100%|██████████████████████████████████████████████████████████████████████████████████| 10/10 [01:00<00:00,  6.10s/it]\n"
     ]
    }
   ],
   "source": [
    "# word / sentiment embedding\n",
    "\n",
    "window = [5]\n",
    "size = [300]\n",
    "passes = 10\n",
    "for w in window:\n",
    "    for s in size:\n",
    "        model = Doc2Vec(dm=1, dm_mean=1, min_count=0, sample=1e-5,\n",
    "                        window=w, size=s, \n",
    "                        workers=8, batch_words = 10000,\n",
    "                        alpha=0.025, min_alpha=0.025)\n",
    "        model.build_vocab(documents)\n",
    "\n",
    "        for epoch in tqdm(range(passes)):\n",
    "            random.shuffle(documents)\n",
    "            model.train(documents)\n",
    "            model.alpha -= 0.002  # decrease the learning rate\n",
    "            model.min_alpha = model.alpha  # fix the learning rate, no decay\n",
    "#             if (epoch + 1) % 5 ==0:\n",
    "#                 model.save(model_path + 'model_' + str(w) + '_' + str(s) + '_' + str(epoch+1))"
   ]
  },
  {
   "cell_type": "code",
   "execution_count": 12,
   "metadata": {
    "collapsed": false
   },
   "outputs": [
    {
     "data": {
      "text/plain": [
       "[('mini', 0.9176653027534485),\n",
       " ('love', 0.8881936073303223),\n",
       " ('carri', 0.8786433935165405),\n",
       " ('portabl', 0.8713654279708862),\n",
       " ('perform', 0.8606942892074585),\n",
       " ('perfect_size', 0.859289824962616),\n",
       " ('lighter', 0.8579401969909668),\n",
       " ('hand', 0.8556053638458252),\n",
       " ('improv', 0.8472954034805298),\n",
       " ('game', 0.8441768884658813),\n",
       " ('great', 0.843303382396698),\n",
       " ('speed', 0.8419391512870789),\n",
       " ('mac', 0.8309455513954163),\n",
       " ('learn_curv', 0.8285374641418457),\n",
       " ('overal', 0.8266509175300598),\n",
       " ('batteri_life', 0.8249247074127197),\n",
       " ('size', 0.8249083757400513),\n",
       " ('perfect', 0.8246691226959229),\n",
       " ('make', 0.8231087327003479),\n",
       " ('inch', 0.8175567984580994),\n",
       " ('storag', 0.8105429410934448),\n",
       " ('far', 0.8104313611984253),\n",
       " ('netflix', 0.8091338276863098),\n",
       " ('book', 0.8081627488136292),\n",
       " ('much_better', 0.8078503012657166),\n",
       " ('full_size', 0.8052796721458435),\n",
       " ('beauti', 0.804874837398529),\n",
       " ('pictur', 0.8045446276664734),\n",
       " ('crisp', 0.8042056560516357),\n",
       " ('stereo', 0.8037182688713074)]"
      ]
     },
     "execution_count": 12,
     "metadata": {},
     "output_type": "execute_result"
    }
   ],
   "source": [
    "model.most_similar([model.docvecs[\"positive\"]], topn=30)"
   ]
  },
  {
   "cell_type": "code",
   "execution_count": 13,
   "metadata": {
    "collapsed": false
   },
   "outputs": [
    {
     "data": {
      "text/plain": [
       "[('return', 0.9267991781234741),\n",
       " ('amazon', 0.9159002900123596),\n",
       " ('defect', 0.9103671908378601),\n",
       " ('contact', 0.8952794075012207),\n",
       " ('stop_work', 0.8915157318115234),\n",
       " ('problem', 0.8774918913841248),\n",
       " ('item', 0.8749350309371948),\n",
       " ('credit_card', 0.874808132648468),\n",
       " ('seller', 0.8740531206130981),\n",
       " ('warranti', 0.8658891916275024),\n",
       " ('refurbish', 0.8651744723320007),\n",
       " ('told', 0.8651559352874756),\n",
       " ('sent', 0.8596659898757935),\n",
       " ('repli', 0.8532638549804688),\n",
       " ('seal', 0.8506012558937073),\n",
       " ('receiv', 0.845376193523407),\n",
       " ('water', 0.8452926874160767),\n",
       " ('said', 0.8445823192596436),\n",
       " ('state', 0.8386708498001099),\n",
       " ('origin', 0.8376731872558594),\n",
       " ('descript', 0.83652263879776),\n",
       " ('fail', 0.8317441940307617),\n",
       " ('not_regist', 0.8207634091377258),\n",
       " ('not_buy', 0.8176717162132263),\n",
       " ('repair', 0.8176360130310059),\n",
       " ('broke', 0.8165550827980042),\n",
       " ('ask', 0.8148546814918518),\n",
       " ('vendor', 0.8146303296089172),\n",
       " ('appl_store', 0.8134809136390686),\n",
       " ('charg', 0.8110567927360535)]"
      ]
     },
     "execution_count": 13,
     "metadata": {},
     "output_type": "execute_result"
    }
   ],
   "source": [
    "model.most_similar([model.docvecs[\"negative\"]], topn=30)"
   ]
  },
  {
   "cell_type": "markdown",
   "metadata": {},
   "source": [
    "### test 1"
   ]
  },
  {
   "cell_type": "code",
   "execution_count": 14,
   "metadata": {
    "collapsed": true
   },
   "outputs": [],
   "source": [
    "model.save(\"E:/dataset/MasterThesis/gensim_models/test1\")"
   ]
  },
  {
   "cell_type": "code",
   "execution_count": 15,
   "metadata": {
    "collapsed": true
   },
   "outputs": [],
   "source": [
    "wordVectors = np.zeros((len(model.index2word), model.vector_size))\n",
    "for index, word in enumerate(model.index2word):\n",
    "    wordVectors[index,:] = model[word]\n",
    "\n",
    "sentimentVector = np.zeros((2, model.vector_size))\n",
    "sentimentVector[0,:] = model.docvecs['positive']\n",
    "sentimentVector[1,:] = model.docvecs['negative']"
   ]
  },
  {
   "cell_type": "code",
   "execution_count": 19,
   "metadata": {
    "collapsed": false
   },
   "outputs": [
    {
     "name": "stdout",
     "output_type": "stream",
     "text": [
      "ratio is  0\n",
      "iteration 1, time 28\n",
      "iteration 2, time 28\n",
      "iteration 3, time 28\n",
      "iteration 4, time 29\n",
      "Starting iteration 5 of 50:\n",
      "0.75145756856\n",
      "iteration 5, time 28\n",
      "iteration 6, time 29\n",
      "iteration 7, time 28\n",
      "iteration 8, time 28\n",
      "iteration 9, time 28\n",
      "Starting iteration 10 of 50:\n",
      "0.731591448931\n",
      "iteration 10, time 28\n",
      "iteration 11, time 28\n",
      "iteration 12, time 28\n",
      "iteration 13, time 28\n",
      "iteration 14, time 28\n",
      "Starting iteration 15 of 50:\n",
      "0.735478298424\n",
      "iteration 15, time 28\n",
      "iteration 16, time 28\n",
      "iteration 17, time 28\n",
      "iteration 18, time 28\n",
      "iteration 19, time 28\n",
      "Starting iteration 20 of 50:\n",
      "0.725977110775\n",
      "iteration 20, time 28\n",
      "iteration 21, time 28\n",
      "iteration 22, time 28\n",
      "iteration 23, time 28\n",
      "iteration 24, time 28\n",
      "Starting iteration 25 of 50:\n",
      "0.724897430361\n",
      "iteration 25, time 28\n",
      "iteration 26, time 28\n",
      "iteration 27, time 28\n",
      "iteration 28, time 28\n",
      "iteration 29, time 28\n",
      "Starting iteration 30 of 50:\n",
      "0.722738069531\n",
      "iteration 30, time 28\n",
      "iteration 31, time 28\n",
      "iteration 32, time 28\n",
      "iteration 33, time 28\n",
      "iteration 34, time 28\n",
      "Starting iteration 35 of 50:\n",
      "0.717339667458\n",
      "iteration 35, time 28\n",
      "iteration 36, time 28\n",
      "iteration 37, time 28\n",
      "iteration 38, time 28\n",
      "iteration 39, time 28\n",
      "Starting iteration 40 of 50:\n",
      "0.721226516951\n",
      "iteration 40, time 28\n",
      "iteration 41, time 28\n",
      "iteration 42, time 28\n",
      "iteration 43, time 28\n",
      "iteration 44, time 28\n",
      "Starting iteration 45 of 50:\n",
      "0.715180306629\n",
      "iteration 45, time 28\n",
      "iteration 46, time 28\n",
      "iteration 47, time 28\n",
      "iteration 48, time 28\n",
      "iteration 49, time 28\n",
      "Starting iteration 50 of 50:\n",
      "0.722090261283\n",
      "Starting save model\n",
      "iteration 50, time 31\n",
      "ratio is  0.2\n",
      "iteration 1, time 28\n",
      "iteration 2, time 28\n",
      "iteration 3, time 28\n",
      "iteration 4, time 28\n",
      "Starting iteration 5 of 50:\n",
      "0.760742820125\n",
      "iteration 5, time 28\n",
      "iteration 6, time 28\n",
      "iteration 7, time 28\n",
      "iteration 8, time 28\n",
      "iteration 9, time 28\n",
      "Starting iteration 10 of 50:\n",
      "0.768732455193\n",
      "iteration 10, time 28\n",
      "iteration 11, time 28\n",
      "iteration 12, time 28\n",
      "iteration 13, time 28\n",
      "iteration 14, time 28\n",
      "Starting iteration 15 of 50:\n",
      "0.765709350032\n",
      "iteration 15, time 28\n",
      "iteration 16, time 28\n",
      "iteration 17, time 28\n",
      "iteration 18, time 28\n",
      "iteration 19, time 28\n",
      "Starting iteration 20 of 50:\n",
      "0.765925286115\n",
      "iteration 20, time 28\n",
      "iteration 21, time 28\n",
      "iteration 22, time 28\n",
      "iteration 23, time 28\n",
      "iteration 24, time 28\n",
      "Starting iteration 25 of 50:\n",
      "0.775642409847\n",
      "iteration 25, time 28\n",
      "iteration 26, time 28\n",
      "iteration 27, time 28\n",
      "iteration 28, time 28\n",
      "iteration 29, time 28\n",
      "Starting iteration 30 of 50:\n",
      "0.771971496437\n",
      "iteration 30, time 28\n",
      "iteration 31, time 28\n",
      "iteration 32, time 28\n",
      "iteration 33, time 28\n",
      "iteration 34, time 28\n",
      "Starting iteration 35 of 50:\n",
      "0.766357158281\n",
      "iteration 35, time 28\n",
      "iteration 36, time 28\n",
      "iteration 37, time 28\n",
      "iteration 38, time 28\n",
      "iteration 39, time 28\n",
      "Starting iteration 40 of 50:\n",
      "0.771323688188\n",
      "iteration 40, time 28\n",
      "iteration 41, time 28\n",
      "iteration 42, time 28\n",
      "iteration 43, time 28\n",
      "iteration 44, time 28\n",
      "Starting iteration 45 of 50:\n",
      "0.768300583027\n",
      "iteration 45, time 28\n",
      "iteration 46, time 28\n",
      "iteration 47, time 28\n",
      "iteration 48, time 28\n",
      "iteration 49, time 28\n",
      "Starting iteration 50 of 50:\n",
      "0.765709350032\n",
      "Starting save model\n",
      "iteration 50, time 28\n",
      "ratio is  0.4\n",
      "iteration 1, time 28\n",
      "iteration 2, time 28\n",
      "iteration 3, time 28\n",
      "iteration 4, time 28\n",
      "Starting iteration 5 of 50:\n",
      "0.773914921183\n",
      "iteration 5, time 28\n",
      "iteration 6, time 28\n",
      "iteration 7, time 28\n",
      "iteration 8, time 28\n",
      "iteration 9, time 28\n",
      "Starting iteration 10 of 50:\n",
      "0.778449578925\n",
      "iteration 10, time 28\n",
      "iteration 11, time 28\n",
      "iteration 12, time 28\n",
      "iteration 13, time 28\n",
      "iteration 14, time 28\n",
      "Starting iteration 15 of 50:\n",
      "0.771323688188\n",
      "iteration 15, time 28\n",
      "iteration 16, time 28\n",
      "iteration 17, time 28\n",
      "iteration 18, time 28\n",
      "iteration 19, time 28\n",
      "Starting iteration 20 of 50:\n",
      "0.769812135608\n",
      "iteration 20, time 28\n",
      "iteration 21, time 28\n",
      "iteration 22, time 28\n",
      "iteration 23, time 27\n",
      "iteration 24, time 27\n",
      "Starting iteration 25 of 50:\n",
      "0.769380263442\n",
      "iteration 25, time 27\n",
      "iteration 26, time 27\n",
      "iteration 27, time 28\n",
      "iteration 28, time 27\n",
      "iteration 29, time 27\n",
      "Starting iteration 30 of 50:\n",
      "0.767436838696\n",
      "iteration 30, time 27\n",
      "iteration 31, time 28\n",
      "iteration 32, time 27\n",
      "iteration 33, time 27\n",
      "iteration 34, time 27\n",
      "Starting iteration 35 of 50:\n",
      "0.767868710862\n",
      "iteration 35, time 27\n",
      "iteration 36, time 27\n",
      "iteration 37, time 27\n",
      "iteration 38, time 27\n",
      "iteration 39, time 27\n",
      "Starting iteration 40 of 50:\n",
      "0.768084646945\n",
      "iteration 40, time 27\n",
      "iteration 41, time 27\n",
      "iteration 42, time 27\n",
      "iteration 43, time 27\n",
      "iteration 44, time 27\n",
      "Starting iteration 45 of 50:\n",
      "0.768300583027\n",
      "iteration 45, time 27\n",
      "iteration 46, time 27\n",
      "iteration 47, time 27\n",
      "iteration 48, time 27\n",
      "iteration 49, time 28\n",
      "Starting iteration 50 of 50:\n",
      "0.766573094364\n",
      "Starting save model\n",
      "iteration 50, time 27\n",
      "ratio is  0.6\n",
      "iteration 1, time 28\n",
      "iteration 2, time 27\n",
      "iteration 3, time 27\n",
      "iteration 4, time 27\n",
      "Starting iteration 5 of 50:\n",
      "0.77067587994\n",
      "iteration 5, time 28\n",
      "iteration 6, time 27\n",
      "iteration 7, time 27\n",
      "iteration 8, time 27\n",
      "iteration 9, time 27\n",
      "Starting iteration 10 of 50:\n",
      "0.776506154178\n",
      "iteration 10, time 27\n",
      "iteration 11, time 27\n",
      "iteration 12, time 27\n",
      "iteration 13, time 27\n",
      "iteration 14, time 27\n",
      "Starting iteration 15 of 50:\n",
      "0.769380263442\n",
      "iteration 15, time 27\n",
      "iteration 16, time 27\n",
      "iteration 17, time 27\n",
      "iteration 18, time 27\n",
      "iteration 19, time 27\n",
      "Starting iteration 20 of 50:\n",
      "0.76851651911\n",
      "iteration 20, time 27\n",
      "iteration 21, time 27\n",
      "iteration 22, time 27\n",
      "iteration 23, time 27\n",
      "iteration 24, time 27\n",
      "Starting iteration 25 of 50:\n",
      "0.774346793349\n",
      "iteration 25, time 27\n",
      "iteration 26, time 27\n",
      "iteration 27, time 27\n",
      "iteration 28, time 27\n",
      "iteration 29, time 27\n",
      "Starting iteration 30 of 50:\n",
      "0.778233642842\n",
      "iteration 30, time 27\n",
      "iteration 31, time 28\n",
      "iteration 32, time 27\n",
      "iteration 33, time 27\n",
      "iteration 34, time 27\n",
      "Starting iteration 35 of 50:\n",
      "0.767868710862\n",
      "iteration 35, time 27\n",
      "iteration 36, time 27\n",
      "iteration 37, time 27\n",
      "iteration 38, time 27\n",
      "iteration 39, time 27\n",
      "Starting iteration 40 of 50:\n",
      "0.770891816022\n",
      "iteration 40, time 27\n",
      "iteration 41, time 27\n",
      "iteration 42, time 27\n",
      "iteration 43, time 27\n",
      "iteration 44, time 27\n",
      "Starting iteration 45 of 50:\n",
      "0.768084646945\n",
      "iteration 45, time 27\n",
      "iteration 46, time 28\n",
      "iteration 47, time 27\n",
      "iteration 48, time 27\n",
      "iteration 49, time 28\n",
      "Starting iteration 50 of 50:\n",
      "0.771107752105\n",
      "Starting save model\n",
      "iteration 50, time 28\n",
      "ratio is  0.8\n",
      "iteration 1, time 27\n",
      "iteration 2, time 28\n",
      "iteration 3, time 27\n",
      "iteration 4, time 27\n",
      "Starting iteration 5 of 50:\n",
      "0.769380263442\n",
      "iteration 5, time 27\n",
      "iteration 6, time 27\n",
      "iteration 7, time 27\n",
      "iteration 8, time 27\n",
      "iteration 9, time 27\n",
      "Starting iteration 10 of 50:\n",
      "0.7736989851\n",
      "iteration 10, time 27\n",
      "iteration 11, time 27\n",
      "iteration 12, time 27\n",
      "iteration 13, time 27\n",
      "iteration 14, time 27\n",
      "Starting iteration 15 of 50:\n",
      "0.77888145109\n",
      "iteration 15, time 28\n",
      "iteration 16, time 27\n",
      "iteration 17, time 27\n",
      "iteration 18, time 27\n",
      "iteration 19, time 27\n",
      "Starting iteration 20 of 50:\n",
      "0.7736989851\n",
      "iteration 20, time 27\n",
      "iteration 21, time 27\n",
      "iteration 22, time 27\n",
      "iteration 23, time 27\n",
      "iteration 24, time 27\n",
      "Starting iteration 25 of 50:\n",
      "0.772403368603\n",
      "iteration 25, time 27\n",
      "iteration 26, time 27\n",
      "iteration 27, time 27\n",
      "iteration 28, time 27\n",
      "iteration 29, time 27\n",
      "Starting iteration 30 of 50:\n",
      "0.77585834593\n",
      "iteration 30, time 27\n",
      "iteration 31, time 28\n",
      "iteration 32, time 27\n",
      "iteration 33, time 27\n",
      "iteration 34, time 28\n",
      "Starting iteration 35 of 50:\n",
      "0.769596199525\n",
      "iteration 35, time 28\n",
      "iteration 36, time 27\n",
      "iteration 37, time 27\n",
      "iteration 38, time 27\n",
      "iteration 39, time 28\n",
      "Starting iteration 40 of 50:\n",
      "0.780177067588\n",
      "iteration 40, time 27\n",
      "iteration 41, time 27\n",
      "iteration 42, time 27\n",
      "iteration 43, time 27\n",
      "iteration 44, time 27\n",
      "Starting iteration 45 of 50:\n",
      "0.776074282013\n",
      "iteration 45, time 28\n",
      "iteration 46, time 27\n",
      "iteration 47, time 27\n",
      "iteration 48, time 28\n",
      "iteration 49, time 27\n",
      "Starting iteration 50 of 50:\n",
      "0.774346793349\n",
      "Starting save model\n",
      "iteration 50, time 27\n",
      "ratio is  1\n",
      "iteration 1, time 28\n",
      "iteration 2, time 28\n",
      "iteration 3, time 27\n",
      "iteration 4, time 27\n",
      "Starting iteration 5 of 50:\n",
      "0.779961131505\n",
      "iteration 5, time 27\n",
      "iteration 6, time 27\n",
      "iteration 7, time 27\n",
      "iteration 8, time 27\n",
      "iteration 9, time 27\n",
      "Starting iteration 10 of 50:\n",
      "0.7736989851\n",
      "iteration 10, time 27\n",
      "iteration 11, time 27\n",
      "iteration 12, time 27\n",
      "iteration 13, time 27\n",
      "iteration 14, time 27\n",
      "Starting iteration 15 of 50:\n",
      "0.779745195422\n",
      "iteration 15, time 27\n",
      "iteration 16, time 27\n",
      "iteration 17, time 27\n",
      "iteration 18, time 27\n",
      "iteration 19, time 27\n",
      "Starting iteration 20 of 50:\n",
      "0.777153962427\n",
      "iteration 20, time 27\n",
      "iteration 21, time 27\n",
      "iteration 22, time 27\n",
      "iteration 23, time 27\n",
      "iteration 24, time 27\n",
      "Starting iteration 25 of 50:\n",
      "0.776938026344\n",
      "iteration 25, time 27\n",
      "iteration 26, time 27\n",
      "iteration 27, time 27\n",
      "iteration 28, time 27\n",
      "iteration 29, time 27\n",
      "Starting iteration 30 of 50:\n",
      "0.776290218095\n",
      "iteration 30, time 27\n",
      "iteration 31, time 27\n",
      "iteration 32, time 27\n",
      "iteration 33, time 27\n",
      "iteration 34, time 27\n",
      "Starting iteration 35 of 50:\n",
      "0.778449578925\n",
      "iteration 35, time 27\n",
      "iteration 36, time 27\n",
      "iteration 37, time 27\n",
      "iteration 38, time 27\n",
      "iteration 39, time 27\n",
      "Starting iteration 40 of 50:\n",
      "0.77888145109\n",
      "iteration 40, time 27\n",
      "iteration 41, time 27\n",
      "iteration 42, time 27\n",
      "iteration 43, time 27\n",
      "iteration 44, time 27\n",
      "Starting iteration 45 of 50:\n",
      "0.771755560354\n",
      "iteration 45, time 28\n",
      "iteration 46, time 27\n",
      "iteration 47, time 27\n",
      "iteration 48, time 27\n",
      "iteration 49, time 27\n",
      "Starting iteration 50 of 50:\n",
      "0.778449578925\n",
      "Starting save model\n",
      "iteration 50, time 27\n"
     ]
    }
   ],
   "source": [
    "topic = 30\n",
    "binaries = [0, 0.2, 0.4, 0.6, 0.8, 1]\n",
    "for binary in binaries:\n",
    "    print(\"ratio is \", binary)\n",
    "    asum_embedding_path = \"E:/dataset/MasterThesis/Models/ASUM_embedding_topic_\" + str(topic)\n",
    "    asum_embedding = ASUM_Embedding(review_label, wordVectors, sentimentVector, numTopics=topic, alpha=0.1, beta=0.001, gamma=1, binary=binary, numSentiments=2)\n",
    "    asum_embedding._initialize_(sentence_list_again)\n",
    "    asum_embedding.run(save_path=asum_embedding_path, print_iter=5, save_iter = 50, maxIters= 50)"
   ]
  },
  {
   "cell_type": "code",
   "execution_count": null,
   "metadata": {
    "collapsed": true
   },
   "outputs": [],
   "source": []
  },
  {
   "cell_type": "code",
   "execution_count": null,
   "metadata": {
    "collapsed": true
   },
   "outputs": [],
   "source": []
  },
  {
   "cell_type": "code",
   "execution_count": null,
   "metadata": {
    "collapsed": true
   },
   "outputs": [],
   "source": []
  }
 ],
 "metadata": {
  "anaconda-cloud": {},
  "kernelspec": {
   "display_name": "Python [conda root]",
   "language": "python",
   "name": "conda-root-py"
  },
  "language_info": {
   "codemirror_mode": {
    "name": "ipython",
    "version": 3
   },
   "file_extension": ".py",
   "mimetype": "text/x-python",
   "name": "python",
   "nbconvert_exporter": "python",
   "pygments_lexer": "ipython3",
   "version": "3.5.2"
  }
 },
 "nbformat": 4,
 "nbformat_minor": 1
}
